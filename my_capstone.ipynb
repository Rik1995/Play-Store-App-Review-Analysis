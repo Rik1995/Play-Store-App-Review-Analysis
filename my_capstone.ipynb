{
  "nbformat": 4,
  "nbformat_minor": 0,
  "metadata": {
    "colab": {
      "provenance": [],
      "collapsed_sections": [],
      "mount_file_id": "1gv9a5NE187tkpkbCNMGrbDcmuV5b-cEj",
      "authorship_tag": "ABX9TyN726sQTBV5ljchW/hQfXbs",
      "include_colab_link": true
    },
    "kernelspec": {
      "name": "python3",
      "display_name": "Python 3"
    },
    "language_info": {
      "name": "python"
    }
  },
  "cells": [
    {
      "cell_type": "markdown",
      "metadata": {
        "id": "view-in-github",
        "colab_type": "text"
      },
      "source": [
        "<a href=\"https://colab.research.google.com/github/Rik1995/Play-Store-App-Review-Analysis/blob/main/my_capstone.ipynb\" target=\"_parent\"><img src=\"https://colab.research.google.com/assets/colab-badge.svg\" alt=\"Open In Colab\"/></a>"
      ]
    },
    {
      "cell_type": "markdown",
      "metadata": {
        "id": "Y06xIdG26kRF"
      },
      "source": [
        "## <b> The Play Store apps data has enormous potential to drive app-making businesses to success. Actionable insights can be drawn for developers to work on and capture the Android market. </b>\n",
        "\n",
        "## <b> Each app (row) has values for catergory, rating, size, and more. Another dataset contains customer reviews of the android apps.</b>\n",
        "\n",
        "## <b> Explore and analyze the data to discover key factors responsible for app engagement and success. </b>"
      ]
    },
    {
      "cell_type": "markdown",
      "source": [
        "![wherecanifindtheplaystore.webp](data:image/webp;base64,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)"
      ],
      "metadata": {
        "id": "IDsZg8sCBYds"
      }
    },
    {
      "cell_type": "markdown",
      "metadata": {
        "id": "x-A-R3R_zPnk"
      },
      "source": [
        "### **📱 Hi everybody !**\n",
        "\n",
        "In this notebook, I'm gonna analyze Google Play Store datas. While I was analyzing the data, I used Python. This study is my first data analyzing study.\n",
        "\n",
        "Google Play Store apps and reviews Mobile apps are everywhere. They are easy to create and can be lucrative. Because of these two factors, more and more apps are being developed. In this notebook, we will do a comprehensive analysis of the Android app market by comparing over ten thousand apps in Google Play across different categories. We'll look for insights in the data to devise strategies to drive growth and retention.\n",
        "\n",
        "Let's take a look at the data, which consists of two files:\n",
        "\n",
        "* **playstore data.csv:** contains all the details of the applications on Google Play. There are 13 features that describe a given app.\n",
        "* **user_reviews.csv:** contains 100 reviews for each app, most helpful first. The text in each review has been pre-processed and attributed with three new features: Sentiment (Positive, Negative or Neutral), Sentiment Polarity and Sentiment Subjectivity.\n",
        "\n",
        "Before jumping into the data's provided, let me first explain you about the EDA analysis."
      ]
    },
    {
      "cell_type": "markdown",
      "metadata": {
        "id": "2f03OSsdT-3C"
      },
      "source": [
        "# **Problem Statements**\n",
        "1. What are the top categories on Play Store?\n",
        "2. Are majority of the apps Paid or Free?\n",
        "3. How important is the rating of the application?\n",
        "4. Which categories from the audience should the app be based on?\n",
        "5. Which category has the most no. of installations?\n",
        "6. How does the count of apps varies by Genres?\n",
        "7. How does the last update has an effect on the rating?\n",
        "8. How are ratings affected when the app is a paid one?\n",
        "9. How are reviews and ratings co-related?\n",
        "10. Lets us discuss the sentiment subjectivity.\n",
        "11. Is subjectivity and polarity proportional to each other?\n",
        "12. What is the percentage of review sentiments?\n",
        "13. How is sentiment polarity varying for paid and free apps?\n",
        "14. How Content Rating affect over the App?\n",
        "15. Does Last Update date has an effects on rating?\n",
        "16. Distribution of App update over the Year.\n",
        "17. Distribution of Paid and Free app updated over the Month."
      ]
    },
    {
      "cell_type": "markdown",
      "source": [
        "# **What is Exploratory Data Analysis?**\n",
        "Exploratory data analysis (EDA) is used by data scientists to analyze and investigate data sets for patterns, and anomalies (outliers), and form hypotheses based on our understanding of the dataset and summarize their main characteristics, often employing data visualization methods. It is an important step in any Data Analysis or Data Science project. It helps determine how best to manipulate data sources to get the answers you need.\n",
        "\n",
        "EDA involves generating summary statistics for numerical data in the dataset and creating various graphical representations to understand the data better and make it more attractive and appealing.\n",
        "\n",
        "The following are the various steps involved in the EDA process:\n",
        "1. <b>Problem Statement</b> - We shall brainstorm and understand the given data set. We shall study the attributes present in it and try to do a philosophical analysis about their meaning and importance for this problem.\n",
        "2. <b>Hypothesis</b> - Upon studying the attributes present in the data base, we shall develop some basic hypothesis on which we can work and play with the data to look for the varied results which we can get out of it.\n",
        "3. <b>Univariate Analysis</b> - It is the simplest form of analyzing the data. In this we would initially pick up a single attribute and study it in and out. It doesn't deal with any sort of co-relation and it's major purpose is to describe. It takes data, summarizes that data and finds patterns in the data.\n",
        "4. <b>Bivariate Analysis</b> - This analysis is related to cause and the relationship between the two attributes. We will try to understand the dependency of attributes on each other.\n",
        "5. <b>Multivariate Analysis</b> - This is done when more than two variables have to be analyzed simultaneously.\n",
        "5. <b>Data Cleaning</b> - We shall clean the dataset and handle the missing data, outliers and categorical variables.\n",
        "6. <b>Testing Hypothesis</b> - We shall check if our data meets the assumptions required by most of the multivariate techniques."
      ],
      "metadata": {
        "id": "Jt-pCh2FV20q"
      }
    },
    {
      "cell_type": "markdown",
      "metadata": {
        "id": "t7ykipvdqXVe"
      },
      "source": [
        "# **1.Importing Libraries:**\n",
        "\n"
      ]
    },
    {
      "cell_type": "code",
      "metadata": {
        "id": "dByMsuzT8Tnw",
        "colab": {
          "base_uri": "https://localhost:8080/",
          "height": 17
        },
        "outputId": "486e3883-b65c-46fb-f097-de23ee9ad5b1"
      },
      "source": [
        "#import library\n",
        "import pandas as pd # data processing, CSV file I/O (e.g. pd.read_csv)\n",
        "import numpy as np # linear algebra\n",
        "import matplotlib.pyplot as plt\n",
        "import seaborn as sns  # visualization tool\n",
        "from datetime import datetime\n",
        "# plotly\n",
        "import plotly \n",
        "plotly.offline.init_notebook_mode(connected=True)\n",
        "import plotly.graph_objs as go\n",
        "import warnings\n",
        "#sns.set(font_scale=1.5)\n",
        "warnings.filterwarnings(\"ignore\")"
      ],
      "execution_count": 35,
      "outputs": [
        {
          "output_type": "display_data",
          "data": {
            "text/html": [
              "        <script type=\"text/javascript\">\n",
              "        window.PlotlyConfig = {MathJaxConfig: 'local'};\n",
              "        if (window.MathJax) {MathJax.Hub.Config({SVG: {font: \"STIX-Web\"}});}\n",
              "        if (typeof require !== 'undefined') {\n",
              "        require.undef(\"plotly\");\n",
              "        requirejs.config({\n",
              "            paths: {\n",
              "                'plotly': ['https://cdn.plot.ly/plotly-2.8.3.min']\n",
              "            }\n",
              "        });\n",
              "        require(['plotly'], function(Plotly) {\n",
              "            window._Plotly = Plotly;\n",
              "        });\n",
              "        }\n",
              "        </script>\n",
              "        "
            ]
          },
          "metadata": {}
        }
      ]
    },
    {
      "cell_type": "markdown",
      "source": [
        "# **2.Mounting Drive:**\n"
      ],
      "metadata": {
        "id": "70F0AOL2ryCF"
      }
    },
    {
      "cell_type": "code",
      "metadata": {
        "colab": {
          "base_uri": "https://localhost:8080/"
        },
        "id": "1o7GeulNiw0K",
        "outputId": "9b5c9ec9-d906-4d6e-e6da-1082973b8e24"
      },
      "source": [
        "from google.colab import drive\n",
        "drive.mount('/content/drive')"
      ],
      "execution_count": 36,
      "outputs": [
        {
          "output_type": "stream",
          "name": "stdout",
          "text": [
            "Drive already mounted at /content/drive; to attempt to forcibly remount, call drive.mount(\"/content/drive\", force_remount=True).\n"
          ]
        }
      ]
    },
    {
      "cell_type": "markdown",
      "source": [
        "# **3.Reading Data:**"
      ],
      "metadata": {
        "id": "CQIJWf680BVy"
      }
    },
    {
      "cell_type": "code",
      "metadata": {
        "id": "iaWmiey4jgYU"
      },
      "source": [
        "# loading csv File\n",
        "file_path = '/content/drive/MyDrive/capstone/Play Store Data.csv'\n",
        "df=pd.read_csv(file_path)"
      ],
      "execution_count": 37,
      "outputs": []
    },
    {
      "cell_type": "markdown",
      "source": [
        "# **4.Basic Data Exploration:**"
      ],
      "metadata": {
        "id": "1CU7JU_h0WZZ"
      }
    },
    {
      "cell_type": "markdown",
      "source": [
        "###**4.1 Head**"
      ],
      "metadata": {
        "id": "Xz9vTtRB1B1R"
      }
    },
    {
      "cell_type": "code",
      "source": [
        "df.head()"
      ],
      "metadata": {
        "colab": {
          "base_uri": "https://localhost:8080/",
          "height": 206
        },
        "id": "bP46mhUKi01a",
        "outputId": "f60bee1a-1c2e-4121-f0bf-a94f2704442e"
      },
      "execution_count": 38,
      "outputs": [
        {
          "output_type": "execute_result",
          "data": {
            "text/plain": [
              "                                                 App        Category  Rating  \\\n",
              "0     Photo Editor & Candy Camera & Grid & ScrapBook  ART_AND_DESIGN     4.1   \n",
              "1                                Coloring book moana  ART_AND_DESIGN     3.9   \n",
              "2  U Launcher Lite – FREE Live Cool Themes, Hide ...  ART_AND_DESIGN     4.7   \n",
              "3                              Sketch - Draw & Paint  ART_AND_DESIGN     4.5   \n",
              "4              Pixel Draw - Number Art Coloring Book  ART_AND_DESIGN     4.3   \n",
              "\n",
              "  Reviews  Size     Installs  Type Price Content Rating  \\\n",
              "0     159   19M      10,000+  Free     0       Everyone   \n",
              "1     967   14M     500,000+  Free     0       Everyone   \n",
              "2   87510  8.7M   5,000,000+  Free     0       Everyone   \n",
              "3  215644   25M  50,000,000+  Free     0           Teen   \n",
              "4     967  2.8M     100,000+  Free     0       Everyone   \n",
              "\n",
              "                      Genres      Last Updated         Current Ver  \\\n",
              "0               Art & Design   January 7, 2018               1.0.0   \n",
              "1  Art & Design;Pretend Play  January 15, 2018               2.0.0   \n",
              "2               Art & Design    August 1, 2018               1.2.4   \n",
              "3               Art & Design      June 8, 2018  Varies with device   \n",
              "4    Art & Design;Creativity     June 20, 2018                 1.1   \n",
              "\n",
              "    Android Ver  \n",
              "0  4.0.3 and up  \n",
              "1  4.0.3 and up  \n",
              "2  4.0.3 and up  \n",
              "3    4.2 and up  \n",
              "4    4.4 and up  "
            ],
            "text/html": [
              "\n",
              "  <div id=\"df-1f5478fe-4c4f-4513-b4ca-65b3ae36c4ec\">\n",
              "    <div class=\"colab-df-container\">\n",
              "      <div>\n",
              "<style scoped>\n",
              "    .dataframe tbody tr th:only-of-type {\n",
              "        vertical-align: middle;\n",
              "    }\n",
              "\n",
              "    .dataframe tbody tr th {\n",
              "        vertical-align: top;\n",
              "    }\n",
              "\n",
              "    .dataframe thead th {\n",
              "        text-align: right;\n",
              "    }\n",
              "</style>\n",
              "<table border=\"1\" class=\"dataframe\">\n",
              "  <thead>\n",
              "    <tr style=\"text-align: right;\">\n",
              "      <th></th>\n",
              "      <th>App</th>\n",
              "      <th>Category</th>\n",
              "      <th>Rating</th>\n",
              "      <th>Reviews</th>\n",
              "      <th>Size</th>\n",
              "      <th>Installs</th>\n",
              "      <th>Type</th>\n",
              "      <th>Price</th>\n",
              "      <th>Content Rating</th>\n",
              "      <th>Genres</th>\n",
              "      <th>Last Updated</th>\n",
              "      <th>Current Ver</th>\n",
              "      <th>Android Ver</th>\n",
              "    </tr>\n",
              "  </thead>\n",
              "  <tbody>\n",
              "    <tr>\n",
              "      <th>0</th>\n",
              "      <td>Photo Editor &amp; Candy Camera &amp; Grid &amp; ScrapBook</td>\n",
              "      <td>ART_AND_DESIGN</td>\n",
              "      <td>4.1</td>\n",
              "      <td>159</td>\n",
              "      <td>19M</td>\n",
              "      <td>10,000+</td>\n",
              "      <td>Free</td>\n",
              "      <td>0</td>\n",
              "      <td>Everyone</td>\n",
              "      <td>Art &amp; Design</td>\n",
              "      <td>January 7, 2018</td>\n",
              "      <td>1.0.0</td>\n",
              "      <td>4.0.3 and up</td>\n",
              "    </tr>\n",
              "    <tr>\n",
              "      <th>1</th>\n",
              "      <td>Coloring book moana</td>\n",
              "      <td>ART_AND_DESIGN</td>\n",
              "      <td>3.9</td>\n",
              "      <td>967</td>\n",
              "      <td>14M</td>\n",
              "      <td>500,000+</td>\n",
              "      <td>Free</td>\n",
              "      <td>0</td>\n",
              "      <td>Everyone</td>\n",
              "      <td>Art &amp; Design;Pretend Play</td>\n",
              "      <td>January 15, 2018</td>\n",
              "      <td>2.0.0</td>\n",
              "      <td>4.0.3 and up</td>\n",
              "    </tr>\n",
              "    <tr>\n",
              "      <th>2</th>\n",
              "      <td>U Launcher Lite – FREE Live Cool Themes, Hide ...</td>\n",
              "      <td>ART_AND_DESIGN</td>\n",
              "      <td>4.7</td>\n",
              "      <td>87510</td>\n",
              "      <td>8.7M</td>\n",
              "      <td>5,000,000+</td>\n",
              "      <td>Free</td>\n",
              "      <td>0</td>\n",
              "      <td>Everyone</td>\n",
              "      <td>Art &amp; Design</td>\n",
              "      <td>August 1, 2018</td>\n",
              "      <td>1.2.4</td>\n",
              "      <td>4.0.3 and up</td>\n",
              "    </tr>\n",
              "    <tr>\n",
              "      <th>3</th>\n",
              "      <td>Sketch - Draw &amp; Paint</td>\n",
              "      <td>ART_AND_DESIGN</td>\n",
              "      <td>4.5</td>\n",
              "      <td>215644</td>\n",
              "      <td>25M</td>\n",
              "      <td>50,000,000+</td>\n",
              "      <td>Free</td>\n",
              "      <td>0</td>\n",
              "      <td>Teen</td>\n",
              "      <td>Art &amp; Design</td>\n",
              "      <td>June 8, 2018</td>\n",
              "      <td>Varies with device</td>\n",
              "      <td>4.2 and up</td>\n",
              "    </tr>\n",
              "    <tr>\n",
              "      <th>4</th>\n",
              "      <td>Pixel Draw - Number Art Coloring Book</td>\n",
              "      <td>ART_AND_DESIGN</td>\n",
              "      <td>4.3</td>\n",
              "      <td>967</td>\n",
              "      <td>2.8M</td>\n",
              "      <td>100,000+</td>\n",
              "      <td>Free</td>\n",
              "      <td>0</td>\n",
              "      <td>Everyone</td>\n",
              "      <td>Art &amp; Design;Creativity</td>\n",
              "      <td>June 20, 2018</td>\n",
              "      <td>1.1</td>\n",
              "      <td>4.4 and up</td>\n",
              "    </tr>\n",
              "  </tbody>\n",
              "</table>\n",
              "</div>\n",
              "      <button class=\"colab-df-convert\" onclick=\"convertToInteractive('df-1f5478fe-4c4f-4513-b4ca-65b3ae36c4ec')\"\n",
              "              title=\"Convert this dataframe to an interactive table.\"\n",
              "              style=\"display:none;\">\n",
              "        \n",
              "  <svg xmlns=\"http://www.w3.org/2000/svg\" height=\"24px\"viewBox=\"0 0 24 24\"\n",
              "       width=\"24px\">\n",
              "    <path d=\"M0 0h24v24H0V0z\" fill=\"none\"/>\n",
              "    <path d=\"M18.56 5.44l.94 2.06.94-2.06 2.06-.94-2.06-.94-.94-2.06-.94 2.06-2.06.94zm-11 1L8.5 8.5l.94-2.06 2.06-.94-2.06-.94L8.5 2.5l-.94 2.06-2.06.94zm10 10l.94 2.06.94-2.06 2.06-.94-2.06-.94-.94-2.06-.94 2.06-2.06.94z\"/><path d=\"M17.41 7.96l-1.37-1.37c-.4-.4-.92-.59-1.43-.59-.52 0-1.04.2-1.43.59L10.3 9.45l-7.72 7.72c-.78.78-.78 2.05 0 2.83L4 21.41c.39.39.9.59 1.41.59.51 0 1.02-.2 1.41-.59l7.78-7.78 2.81-2.81c.8-.78.8-2.07 0-2.86zM5.41 20L4 18.59l7.72-7.72 1.47 1.35L5.41 20z\"/>\n",
              "  </svg>\n",
              "      </button>\n",
              "      \n",
              "  <style>\n",
              "    .colab-df-container {\n",
              "      display:flex;\n",
              "      flex-wrap:wrap;\n",
              "      gap: 12px;\n",
              "    }\n",
              "\n",
              "    .colab-df-convert {\n",
              "      background-color: #E8F0FE;\n",
              "      border: none;\n",
              "      border-radius: 50%;\n",
              "      cursor: pointer;\n",
              "      display: none;\n",
              "      fill: #1967D2;\n",
              "      height: 32px;\n",
              "      padding: 0 0 0 0;\n",
              "      width: 32px;\n",
              "    }\n",
              "\n",
              "    .colab-df-convert:hover {\n",
              "      background-color: #E2EBFA;\n",
              "      box-shadow: 0px 1px 2px rgba(60, 64, 67, 0.3), 0px 1px 3px 1px rgba(60, 64, 67, 0.15);\n",
              "      fill: #174EA6;\n",
              "    }\n",
              "\n",
              "    [theme=dark] .colab-df-convert {\n",
              "      background-color: #3B4455;\n",
              "      fill: #D2E3FC;\n",
              "    }\n",
              "\n",
              "    [theme=dark] .colab-df-convert:hover {\n",
              "      background-color: #434B5C;\n",
              "      box-shadow: 0px 1px 3px 1px rgba(0, 0, 0, 0.15);\n",
              "      filter: drop-shadow(0px 1px 2px rgba(0, 0, 0, 0.3));\n",
              "      fill: #FFFFFF;\n",
              "    }\n",
              "  </style>\n",
              "\n",
              "      <script>\n",
              "        const buttonEl =\n",
              "          document.querySelector('#df-1f5478fe-4c4f-4513-b4ca-65b3ae36c4ec button.colab-df-convert');\n",
              "        buttonEl.style.display =\n",
              "          google.colab.kernel.accessAllowed ? 'block' : 'none';\n",
              "\n",
              "        async function convertToInteractive(key) {\n",
              "          const element = document.querySelector('#df-1f5478fe-4c4f-4513-b4ca-65b3ae36c4ec');\n",
              "          const dataTable =\n",
              "            await google.colab.kernel.invokeFunction('convertToInteractive',\n",
              "                                                     [key], {});\n",
              "          if (!dataTable) return;\n",
              "\n",
              "          const docLinkHtml = 'Like what you see? Visit the ' +\n",
              "            '<a target=\"_blank\" href=https://colab.research.google.com/notebooks/data_table.ipynb>data table notebook</a>'\n",
              "            + ' to learn more about interactive tables.';\n",
              "          element.innerHTML = '';\n",
              "          dataTable['output_type'] = 'display_data';\n",
              "          await google.colab.output.renderOutput(dataTable, element);\n",
              "          const docLink = document.createElement('div');\n",
              "          docLink.innerHTML = docLinkHtml;\n",
              "          element.appendChild(docLink);\n",
              "        }\n",
              "      </script>\n",
              "    </div>\n",
              "  </div>\n",
              "  "
            ]
          },
          "metadata": {},
          "execution_count": 38
        }
      ]
    },
    {
      "cell_type": "markdown",
      "source": [
        "###**4.2  Tail**"
      ],
      "metadata": {
        "id": "MyB2FEyb2cgq"
      }
    },
    {
      "cell_type": "code",
      "source": [
        "df.tail()"
      ],
      "metadata": {
        "colab": {
          "base_uri": "https://localhost:8080/",
          "height": 206
        },
        "id": "1XasORI5j2Zk",
        "outputId": "72089c42-a51c-4f1a-de15-4d8d8f2ede62"
      },
      "execution_count": 39,
      "outputs": [
        {
          "output_type": "execute_result",
          "data": {
            "text/plain": [
              "                                                 App             Category  \\\n",
              "10836                               Sya9a Maroc - FR               FAMILY   \n",
              "10837               Fr. Mike Schmitz Audio Teachings               FAMILY   \n",
              "10838                         Parkinson Exercices FR              MEDICAL   \n",
              "10839                  The SCP Foundation DB fr nn5n  BOOKS_AND_REFERENCE   \n",
              "10840  iHoroscope - 2018 Daily Horoscope & Astrology            LIFESTYLE   \n",
              "\n",
              "       Rating Reviews                Size     Installs  Type Price  \\\n",
              "10836     4.5      38                 53M       5,000+  Free     0   \n",
              "10837     5.0       4                3.6M         100+  Free     0   \n",
              "10838     NaN       3                9.5M       1,000+  Free     0   \n",
              "10839     4.5     114  Varies with device       1,000+  Free     0   \n",
              "10840     4.5  398307                 19M  10,000,000+  Free     0   \n",
              "\n",
              "      Content Rating             Genres      Last Updated         Current Ver  \\\n",
              "10836       Everyone          Education     July 25, 2017                1.48   \n",
              "10837       Everyone          Education      July 6, 2018                 1.0   \n",
              "10838       Everyone            Medical  January 20, 2017                 1.0   \n",
              "10839     Mature 17+  Books & Reference  January 19, 2015  Varies with device   \n",
              "10840       Everyone          Lifestyle     July 25, 2018  Varies with device   \n",
              "\n",
              "              Android Ver  \n",
              "10836          4.1 and up  \n",
              "10837          4.1 and up  \n",
              "10838          2.2 and up  \n",
              "10839  Varies with device  \n",
              "10840  Varies with device  "
            ],
            "text/html": [
              "\n",
              "  <div id=\"df-fbb12dd9-6457-415b-88cd-20b783f5e997\">\n",
              "    <div class=\"colab-df-container\">\n",
              "      <div>\n",
              "<style scoped>\n",
              "    .dataframe tbody tr th:only-of-type {\n",
              "        vertical-align: middle;\n",
              "    }\n",
              "\n",
              "    .dataframe tbody tr th {\n",
              "        vertical-align: top;\n",
              "    }\n",
              "\n",
              "    .dataframe thead th {\n",
              "        text-align: right;\n",
              "    }\n",
              "</style>\n",
              "<table border=\"1\" class=\"dataframe\">\n",
              "  <thead>\n",
              "    <tr style=\"text-align: right;\">\n",
              "      <th></th>\n",
              "      <th>App</th>\n",
              "      <th>Category</th>\n",
              "      <th>Rating</th>\n",
              "      <th>Reviews</th>\n",
              "      <th>Size</th>\n",
              "      <th>Installs</th>\n",
              "      <th>Type</th>\n",
              "      <th>Price</th>\n",
              "      <th>Content Rating</th>\n",
              "      <th>Genres</th>\n",
              "      <th>Last Updated</th>\n",
              "      <th>Current Ver</th>\n",
              "      <th>Android Ver</th>\n",
              "    </tr>\n",
              "  </thead>\n",
              "  <tbody>\n",
              "    <tr>\n",
              "      <th>10836</th>\n",
              "      <td>Sya9a Maroc - FR</td>\n",
              "      <td>FAMILY</td>\n",
              "      <td>4.5</td>\n",
              "      <td>38</td>\n",
              "      <td>53M</td>\n",
              "      <td>5,000+</td>\n",
              "      <td>Free</td>\n",
              "      <td>0</td>\n",
              "      <td>Everyone</td>\n",
              "      <td>Education</td>\n",
              "      <td>July 25, 2017</td>\n",
              "      <td>1.48</td>\n",
              "      <td>4.1 and up</td>\n",
              "    </tr>\n",
              "    <tr>\n",
              "      <th>10837</th>\n",
              "      <td>Fr. Mike Schmitz Audio Teachings</td>\n",
              "      <td>FAMILY</td>\n",
              "      <td>5.0</td>\n",
              "      <td>4</td>\n",
              "      <td>3.6M</td>\n",
              "      <td>100+</td>\n",
              "      <td>Free</td>\n",
              "      <td>0</td>\n",
              "      <td>Everyone</td>\n",
              "      <td>Education</td>\n",
              "      <td>July 6, 2018</td>\n",
              "      <td>1.0</td>\n",
              "      <td>4.1 and up</td>\n",
              "    </tr>\n",
              "    <tr>\n",
              "      <th>10838</th>\n",
              "      <td>Parkinson Exercices FR</td>\n",
              "      <td>MEDICAL</td>\n",
              "      <td>NaN</td>\n",
              "      <td>3</td>\n",
              "      <td>9.5M</td>\n",
              "      <td>1,000+</td>\n",
              "      <td>Free</td>\n",
              "      <td>0</td>\n",
              "      <td>Everyone</td>\n",
              "      <td>Medical</td>\n",
              "      <td>January 20, 2017</td>\n",
              "      <td>1.0</td>\n",
              "      <td>2.2 and up</td>\n",
              "    </tr>\n",
              "    <tr>\n",
              "      <th>10839</th>\n",
              "      <td>The SCP Foundation DB fr nn5n</td>\n",
              "      <td>BOOKS_AND_REFERENCE</td>\n",
              "      <td>4.5</td>\n",
              "      <td>114</td>\n",
              "      <td>Varies with device</td>\n",
              "      <td>1,000+</td>\n",
              "      <td>Free</td>\n",
              "      <td>0</td>\n",
              "      <td>Mature 17+</td>\n",
              "      <td>Books &amp; Reference</td>\n",
              "      <td>January 19, 2015</td>\n",
              "      <td>Varies with device</td>\n",
              "      <td>Varies with device</td>\n",
              "    </tr>\n",
              "    <tr>\n",
              "      <th>10840</th>\n",
              "      <td>iHoroscope - 2018 Daily Horoscope &amp; Astrology</td>\n",
              "      <td>LIFESTYLE</td>\n",
              "      <td>4.5</td>\n",
              "      <td>398307</td>\n",
              "      <td>19M</td>\n",
              "      <td>10,000,000+</td>\n",
              "      <td>Free</td>\n",
              "      <td>0</td>\n",
              "      <td>Everyone</td>\n",
              "      <td>Lifestyle</td>\n",
              "      <td>July 25, 2018</td>\n",
              "      <td>Varies with device</td>\n",
              "      <td>Varies with device</td>\n",
              "    </tr>\n",
              "  </tbody>\n",
              "</table>\n",
              "</div>\n",
              "      <button class=\"colab-df-convert\" onclick=\"convertToInteractive('df-fbb12dd9-6457-415b-88cd-20b783f5e997')\"\n",
              "              title=\"Convert this dataframe to an interactive table.\"\n",
              "              style=\"display:none;\">\n",
              "        \n",
              "  <svg xmlns=\"http://www.w3.org/2000/svg\" height=\"24px\"viewBox=\"0 0 24 24\"\n",
              "       width=\"24px\">\n",
              "    <path d=\"M0 0h24v24H0V0z\" fill=\"none\"/>\n",
              "    <path d=\"M18.56 5.44l.94 2.06.94-2.06 2.06-.94-2.06-.94-.94-2.06-.94 2.06-2.06.94zm-11 1L8.5 8.5l.94-2.06 2.06-.94-2.06-.94L8.5 2.5l-.94 2.06-2.06.94zm10 10l.94 2.06.94-2.06 2.06-.94-2.06-.94-.94-2.06-.94 2.06-2.06.94z\"/><path d=\"M17.41 7.96l-1.37-1.37c-.4-.4-.92-.59-1.43-.59-.52 0-1.04.2-1.43.59L10.3 9.45l-7.72 7.72c-.78.78-.78 2.05 0 2.83L4 21.41c.39.39.9.59 1.41.59.51 0 1.02-.2 1.41-.59l7.78-7.78 2.81-2.81c.8-.78.8-2.07 0-2.86zM5.41 20L4 18.59l7.72-7.72 1.47 1.35L5.41 20z\"/>\n",
              "  </svg>\n",
              "      </button>\n",
              "      \n",
              "  <style>\n",
              "    .colab-df-container {\n",
              "      display:flex;\n",
              "      flex-wrap:wrap;\n",
              "      gap: 12px;\n",
              "    }\n",
              "\n",
              "    .colab-df-convert {\n",
              "      background-color: #E8F0FE;\n",
              "      border: none;\n",
              "      border-radius: 50%;\n",
              "      cursor: pointer;\n",
              "      display: none;\n",
              "      fill: #1967D2;\n",
              "      height: 32px;\n",
              "      padding: 0 0 0 0;\n",
              "      width: 32px;\n",
              "    }\n",
              "\n",
              "    .colab-df-convert:hover {\n",
              "      background-color: #E2EBFA;\n",
              "      box-shadow: 0px 1px 2px rgba(60, 64, 67, 0.3), 0px 1px 3px 1px rgba(60, 64, 67, 0.15);\n",
              "      fill: #174EA6;\n",
              "    }\n",
              "\n",
              "    [theme=dark] .colab-df-convert {\n",
              "      background-color: #3B4455;\n",
              "      fill: #D2E3FC;\n",
              "    }\n",
              "\n",
              "    [theme=dark] .colab-df-convert:hover {\n",
              "      background-color: #434B5C;\n",
              "      box-shadow: 0px 1px 3px 1px rgba(0, 0, 0, 0.15);\n",
              "      filter: drop-shadow(0px 1px 2px rgba(0, 0, 0, 0.3));\n",
              "      fill: #FFFFFF;\n",
              "    }\n",
              "  </style>\n",
              "\n",
              "      <script>\n",
              "        const buttonEl =\n",
              "          document.querySelector('#df-fbb12dd9-6457-415b-88cd-20b783f5e997 button.colab-df-convert');\n",
              "        buttonEl.style.display =\n",
              "          google.colab.kernel.accessAllowed ? 'block' : 'none';\n",
              "\n",
              "        async function convertToInteractive(key) {\n",
              "          const element = document.querySelector('#df-fbb12dd9-6457-415b-88cd-20b783f5e997');\n",
              "          const dataTable =\n",
              "            await google.colab.kernel.invokeFunction('convertToInteractive',\n",
              "                                                     [key], {});\n",
              "          if (!dataTable) return;\n",
              "\n",
              "          const docLinkHtml = 'Like what you see? Visit the ' +\n",
              "            '<a target=\"_blank\" href=https://colab.research.google.com/notebooks/data_table.ipynb>data table notebook</a>'\n",
              "            + ' to learn more about interactive tables.';\n",
              "          element.innerHTML = '';\n",
              "          dataTable['output_type'] = 'display_data';\n",
              "          await google.colab.output.renderOutput(dataTable, element);\n",
              "          const docLink = document.createElement('div');\n",
              "          docLink.innerHTML = docLinkHtml;\n",
              "          element.appendChild(docLink);\n",
              "        }\n",
              "      </script>\n",
              "    </div>\n",
              "  </div>\n",
              "  "
            ]
          },
          "metadata": {},
          "execution_count": 39
        }
      ]
    },
    {
      "cell_type": "markdown",
      "source": [
        "###**4.3 Shape**"
      ],
      "metadata": {
        "id": "6P5TuUV-3IDh"
      }
    },
    {
      "cell_type": "code",
      "source": [
        "df.shape"
      ],
      "metadata": {
        "colab": {
          "base_uri": "https://localhost:8080/"
        },
        "id": "Zwfw4rt4kUO_",
        "outputId": "a915dd64-a9cd-43b9-b18e-048cfb1b9362"
      },
      "execution_count": 40,
      "outputs": [
        {
          "output_type": "execute_result",
          "data": {
            "text/plain": [
              "(10841, 13)"
            ]
          },
          "metadata": {},
          "execution_count": 40
        }
      ]
    },
    {
      "cell_type": "markdown",
      "source": [
        "###**4.4  Rows & Columns**"
      ],
      "metadata": {
        "id": "Vfvl-H0h3Yyp"
      }
    },
    {
      "cell_type": "code",
      "source": [
        "rows = df.shape[0]\n",
        "columns = df.shape[1]\n",
        "print(f\"The no of rows is {rows} and no of columns is {columns}\")"
      ],
      "metadata": {
        "colab": {
          "base_uri": "https://localhost:8080/"
        },
        "id": "baY-18dYkgUG",
        "outputId": "95693620-4fee-40df-8368-818dbacf1df8"
      },
      "execution_count": 41,
      "outputs": [
        {
          "output_type": "stream",
          "name": "stdout",
          "text": [
            "The no of rows is 10841 and no of columns is 13\n"
          ]
        }
      ]
    },
    {
      "cell_type": "markdown",
      "source": [
        "###**4.5  Info**"
      ],
      "metadata": {
        "id": "FwFxsu393_bR"
      }
    },
    {
      "cell_type": "code",
      "source": [
        "df.info()"
      ],
      "metadata": {
        "colab": {
          "base_uri": "https://localhost:8080/"
        },
        "id": "voWXZ4l5s3vU",
        "outputId": "7e6d79fa-612a-4e5c-b210-a8ba5b7668ed"
      },
      "execution_count": 42,
      "outputs": [
        {
          "output_type": "stream",
          "name": "stdout",
          "text": [
            "<class 'pandas.core.frame.DataFrame'>\n",
            "RangeIndex: 10841 entries, 0 to 10840\n",
            "Data columns (total 13 columns):\n",
            " #   Column          Non-Null Count  Dtype  \n",
            "---  ------          --------------  -----  \n",
            " 0   App             10841 non-null  object \n",
            " 1   Category        10841 non-null  object \n",
            " 2   Rating          9367 non-null   float64\n",
            " 3   Reviews         10841 non-null  object \n",
            " 4   Size            10841 non-null  object \n",
            " 5   Installs        10841 non-null  object \n",
            " 6   Type            10840 non-null  object \n",
            " 7   Price           10841 non-null  object \n",
            " 8   Content Rating  10840 non-null  object \n",
            " 9   Genres          10841 non-null  object \n",
            " 10  Last Updated    10841 non-null  object \n",
            " 11  Current Ver     10833 non-null  object \n",
            " 12  Android Ver     10838 non-null  object \n",
            "dtypes: float64(1), object(12)\n",
            "memory usage: 1.1+ MB\n"
          ]
        }
      ]
    },
    {
      "cell_type": "markdown",
      "source": [
        "###**4.6  Describe**"
      ],
      "metadata": {
        "id": "O5pwQzu-40xJ"
      }
    },
    {
      "cell_type": "code",
      "source": [
        "df.describe()"
      ],
      "metadata": {
        "colab": {
          "base_uri": "https://localhost:8080/",
          "height": 300
        },
        "id": "LIQbyy1c4yYa",
        "outputId": "4bce198e-7b3a-44bf-a7e5-7aa5fc323782"
      },
      "execution_count": 43,
      "outputs": [
        {
          "output_type": "execute_result",
          "data": {
            "text/plain": [
              "            Rating\n",
              "count  9367.000000\n",
              "mean      4.193338\n",
              "std       0.537431\n",
              "min       1.000000\n",
              "25%       4.000000\n",
              "50%       4.300000\n",
              "75%       4.500000\n",
              "max      19.000000"
            ],
            "text/html": [
              "\n",
              "  <div id=\"df-1ef35d26-b1bf-4c84-a767-1f2ea807c413\">\n",
              "    <div class=\"colab-df-container\">\n",
              "      <div>\n",
              "<style scoped>\n",
              "    .dataframe tbody tr th:only-of-type {\n",
              "        vertical-align: middle;\n",
              "    }\n",
              "\n",
              "    .dataframe tbody tr th {\n",
              "        vertical-align: top;\n",
              "    }\n",
              "\n",
              "    .dataframe thead th {\n",
              "        text-align: right;\n",
              "    }\n",
              "</style>\n",
              "<table border=\"1\" class=\"dataframe\">\n",
              "  <thead>\n",
              "    <tr style=\"text-align: right;\">\n",
              "      <th></th>\n",
              "      <th>Rating</th>\n",
              "    </tr>\n",
              "  </thead>\n",
              "  <tbody>\n",
              "    <tr>\n",
              "      <th>count</th>\n",
              "      <td>9367.000000</td>\n",
              "    </tr>\n",
              "    <tr>\n",
              "      <th>mean</th>\n",
              "      <td>4.193338</td>\n",
              "    </tr>\n",
              "    <tr>\n",
              "      <th>std</th>\n",
              "      <td>0.537431</td>\n",
              "    </tr>\n",
              "    <tr>\n",
              "      <th>min</th>\n",
              "      <td>1.000000</td>\n",
              "    </tr>\n",
              "    <tr>\n",
              "      <th>25%</th>\n",
              "      <td>4.000000</td>\n",
              "    </tr>\n",
              "    <tr>\n",
              "      <th>50%</th>\n",
              "      <td>4.300000</td>\n",
              "    </tr>\n",
              "    <tr>\n",
              "      <th>75%</th>\n",
              "      <td>4.500000</td>\n",
              "    </tr>\n",
              "    <tr>\n",
              "      <th>max</th>\n",
              "      <td>19.000000</td>\n",
              "    </tr>\n",
              "  </tbody>\n",
              "</table>\n",
              "</div>\n",
              "      <button class=\"colab-df-convert\" onclick=\"convertToInteractive('df-1ef35d26-b1bf-4c84-a767-1f2ea807c413')\"\n",
              "              title=\"Convert this dataframe to an interactive table.\"\n",
              "              style=\"display:none;\">\n",
              "        \n",
              "  <svg xmlns=\"http://www.w3.org/2000/svg\" height=\"24px\"viewBox=\"0 0 24 24\"\n",
              "       width=\"24px\">\n",
              "    <path d=\"M0 0h24v24H0V0z\" fill=\"none\"/>\n",
              "    <path d=\"M18.56 5.44l.94 2.06.94-2.06 2.06-.94-2.06-.94-.94-2.06-.94 2.06-2.06.94zm-11 1L8.5 8.5l.94-2.06 2.06-.94-2.06-.94L8.5 2.5l-.94 2.06-2.06.94zm10 10l.94 2.06.94-2.06 2.06-.94-2.06-.94-.94-2.06-.94 2.06-2.06.94z\"/><path d=\"M17.41 7.96l-1.37-1.37c-.4-.4-.92-.59-1.43-.59-.52 0-1.04.2-1.43.59L10.3 9.45l-7.72 7.72c-.78.78-.78 2.05 0 2.83L4 21.41c.39.39.9.59 1.41.59.51 0 1.02-.2 1.41-.59l7.78-7.78 2.81-2.81c.8-.78.8-2.07 0-2.86zM5.41 20L4 18.59l7.72-7.72 1.47 1.35L5.41 20z\"/>\n",
              "  </svg>\n",
              "      </button>\n",
              "      \n",
              "  <style>\n",
              "    .colab-df-container {\n",
              "      display:flex;\n",
              "      flex-wrap:wrap;\n",
              "      gap: 12px;\n",
              "    }\n",
              "\n",
              "    .colab-df-convert {\n",
              "      background-color: #E8F0FE;\n",
              "      border: none;\n",
              "      border-radius: 50%;\n",
              "      cursor: pointer;\n",
              "      display: none;\n",
              "      fill: #1967D2;\n",
              "      height: 32px;\n",
              "      padding: 0 0 0 0;\n",
              "      width: 32px;\n",
              "    }\n",
              "\n",
              "    .colab-df-convert:hover {\n",
              "      background-color: #E2EBFA;\n",
              "      box-shadow: 0px 1px 2px rgba(60, 64, 67, 0.3), 0px 1px 3px 1px rgba(60, 64, 67, 0.15);\n",
              "      fill: #174EA6;\n",
              "    }\n",
              "\n",
              "    [theme=dark] .colab-df-convert {\n",
              "      background-color: #3B4455;\n",
              "      fill: #D2E3FC;\n",
              "    }\n",
              "\n",
              "    [theme=dark] .colab-df-convert:hover {\n",
              "      background-color: #434B5C;\n",
              "      box-shadow: 0px 1px 3px 1px rgba(0, 0, 0, 0.15);\n",
              "      filter: drop-shadow(0px 1px 2px rgba(0, 0, 0, 0.3));\n",
              "      fill: #FFFFFF;\n",
              "    }\n",
              "  </style>\n",
              "\n",
              "      <script>\n",
              "        const buttonEl =\n",
              "          document.querySelector('#df-1ef35d26-b1bf-4c84-a767-1f2ea807c413 button.colab-df-convert');\n",
              "        buttonEl.style.display =\n",
              "          google.colab.kernel.accessAllowed ? 'block' : 'none';\n",
              "\n",
              "        async function convertToInteractive(key) {\n",
              "          const element = document.querySelector('#df-1ef35d26-b1bf-4c84-a767-1f2ea807c413');\n",
              "          const dataTable =\n",
              "            await google.colab.kernel.invokeFunction('convertToInteractive',\n",
              "                                                     [key], {});\n",
              "          if (!dataTable) return;\n",
              "\n",
              "          const docLinkHtml = 'Like what you see? Visit the ' +\n",
              "            '<a target=\"_blank\" href=https://colab.research.google.com/notebooks/data_table.ipynb>data table notebook</a>'\n",
              "            + ' to learn more about interactive tables.';\n",
              "          element.innerHTML = '';\n",
              "          dataTable['output_type'] = 'display_data';\n",
              "          await google.colab.output.renderOutput(dataTable, element);\n",
              "          const docLink = document.createElement('div');\n",
              "          docLink.innerHTML = docLinkHtml;\n",
              "          element.appendChild(docLink);\n",
              "        }\n",
              "      </script>\n",
              "    </div>\n",
              "  </div>\n",
              "  "
            ]
          },
          "metadata": {},
          "execution_count": 43
        }
      ]
    },
    {
      "cell_type": "markdown",
      "source": [
        "###**4.7   Columns Names** "
      ],
      "metadata": {
        "id": "jwqt7W0U5gBg"
      }
    },
    {
      "cell_type": "code",
      "source": [
        "df.columns"
      ],
      "metadata": {
        "colab": {
          "base_uri": "https://localhost:8080/"
        },
        "id": "bYWqvuvq5bu5",
        "outputId": "01063023-ceed-4c70-e228-a85b51c65fb7"
      },
      "execution_count": 44,
      "outputs": [
        {
          "output_type": "execute_result",
          "data": {
            "text/plain": [
              "Index(['App', 'Category', 'Rating', 'Reviews', 'Size', 'Installs', 'Type',\n",
              "       'Price', 'Content Rating', 'Genres', 'Last Updated', 'Current Ver',\n",
              "       'Android Ver'],\n",
              "      dtype='object')"
            ]
          },
          "metadata": {},
          "execution_count": 44
        }
      ]
    },
    {
      "cell_type": "markdown",
      "source": [
        "\n",
        "1. **App** - It tells us about the name of the application with a short description (optional).\n",
        "2. **Category** - It gives the category to the app.\n",
        "3. **Rating** - It contains the average rating the respective app received from its users.\n",
        "4. **Reviews** - It tells us about the total number of users who have given a review for the application.\n",
        "5. **Size** - It tells us about the size being occupied the application on the mobile phone.\n",
        "6. **Installs** - It tells us about the total number of installs/downloads for an application.\n",
        "7. **Type** - IIt states whether an app is free to use or paid.\n",
        "8. **Price** - It gives the price payable to install the app. For free type apps, the price is zero.\n",
        "9. **Content Rating** - It states whether or not an app is suitable for all age groups or not.\n",
        "10. **Genres** - It tells us about the various other categories to which an application can belong.\n",
        "11. **Last Updated** - It tells us about the when the application was updated.\n",
        "12. **Current Ver** - It tells us about the current version of the application.\n",
        "13.**Android Ver** - It tells us about the android version which can support the application on its platform."
      ],
      "metadata": {
        "id": "mAZ5V02lZjLU"
      }
    },
    {
      "cell_type": "markdown",
      "source": [
        "#  **5.Data cleaning & Data visualisation:**"
      ],
      "metadata": {
        "id": "F41kywIm8x7G"
      }
    },
    {
      "cell_type": "markdown",
      "metadata": {
        "id": "BH6SJui4pvWv"
      },
      "source": [
        "A careful glance of the dataset reveals that some of these columns mandate data cleaning in order to be consumed by code we'll write later. Specifically, the presence of special characters (, $ +) and letters (M k) in the Installs, Size, and Price columns make their conversion to a numerical data type difficult. Let's clean by removing these and converting each column to a numeric type."
      ]
    },
    {
      "cell_type": "markdown",
      "source": [
        "## *5.1 Let's check the no of NaN value present in each column*"
      ],
      "metadata": {
        "id": "shwmYq_xiFJg"
      }
    },
    {
      "cell_type": "code",
      "source": [
        "nan_values=(df.isnull().sum())\n",
        "print(nan_values)"
      ],
      "metadata": {
        "id": "wVaiKpu-IGGf",
        "colab": {
          "base_uri": "https://localhost:8080/"
        },
        "outputId": "81ec8dbb-4738-44a6-cf39-f43f51c285e7"
      },
      "execution_count": 45,
      "outputs": [
        {
          "output_type": "stream",
          "name": "stdout",
          "text": [
            "App                  0\n",
            "Category             0\n",
            "Rating            1474\n",
            "Reviews              0\n",
            "Size                 0\n",
            "Installs             0\n",
            "Type                 1\n",
            "Price                0\n",
            "Content Rating       1\n",
            "Genres               0\n",
            "Last Updated         0\n",
            "Current Ver          8\n",
            "Android Ver          3\n",
            "dtype: int64\n"
          ]
        }
      ]
    },
    {
      "cell_type": "markdown",
      "source": [
        "As we can see Rating column is having highest no of NaN values.\n",
        "As there are 1474 missing values in rating so the possible way here is to get the median, mean or mode of column Rating and replace that value with the missing values."
      ],
      "metadata": {
        "id": "DW-YwEbHjcuo"
      }
    },
    {
      "cell_type": "code",
      "source": [
        "mean_rating = df['Rating'].mean()\n",
        "mean_rating"
      ],
      "metadata": {
        "colab": {
          "base_uri": "https://localhost:8080/"
        },
        "id": "-zLECDn8m9jK",
        "outputId": "0abf49e1-a829-40e5-84f1-b3ce58755afe"
      },
      "execution_count": 46,
      "outputs": [
        {
          "output_type": "execute_result",
          "data": {
            "text/plain": [
              "4.193338315362443"
            ]
          },
          "metadata": {},
          "execution_count": 46
        }
      ]
    },
    {
      "cell_type": "code",
      "source": [
        "median_rating = df['Rating'].median()\n",
        "median_rating"
      ],
      "metadata": {
        "colab": {
          "base_uri": "https://localhost:8080/"
        },
        "id": "evKFzNfbnS3P",
        "outputId": "db6ae490-d623-4491-a488-f83664caee71"
      },
      "execution_count": 47,
      "outputs": [
        {
          "output_type": "execute_result",
          "data": {
            "text/plain": [
              "4.3"
            ]
          },
          "metadata": {},
          "execution_count": 47
        }
      ]
    },
    {
      "cell_type": "code",
      "source": [
        "mode_rating = df['Rating'].mode()\n",
        "mode_rating"
      ],
      "metadata": {
        "colab": {
          "base_uri": "https://localhost:8080/"
        },
        "id": "iVg2bzUgni7p",
        "outputId": "3763cfac-bf44-42e9-b4e6-b1be250ad99d"
      },
      "execution_count": 48,
      "outputs": [
        {
          "output_type": "execute_result",
          "data": {
            "text/plain": [
              "0    4.4\n",
              "dtype: float64"
            ]
          },
          "metadata": {},
          "execution_count": 48
        }
      ]
    },
    {
      "cell_type": "markdown",
      "source": [
        "Here we can see based on our analysis mode > median > mean which is clear direction of negative skewness so to reduce we would replace Nan with mean rating."
      ],
      "metadata": {
        "id": "s7RIoHFKn3dU"
      }
    },
    {
      "cell_type": "code",
      "source": [
        "df['Rating'] = df['Rating'].fillna(mean_rating)"
      ],
      "metadata": {
        "id": "2naVhvQEoNqe"
      },
      "execution_count": null,
      "outputs": []
    },
    {
      "cell_type": "code",
      "source": [
        "df.info()"
      ],
      "metadata": {
        "colab": {
          "base_uri": "https://localhost:8080/"
        },
        "id": "yFOSxmR_oj-C",
        "outputId": "7e550579-4740-456c-a120-84fab0a1cc7d"
      },
      "execution_count": 49,
      "outputs": [
        {
          "output_type": "stream",
          "name": "stdout",
          "text": [
            "<class 'pandas.core.frame.DataFrame'>\n",
            "RangeIndex: 10841 entries, 0 to 10840\n",
            "Data columns (total 13 columns):\n",
            " #   Column          Non-Null Count  Dtype  \n",
            "---  ------          --------------  -----  \n",
            " 0   App             10841 non-null  object \n",
            " 1   Category        10841 non-null  object \n",
            " 2   Rating          9367 non-null   float64\n",
            " 3   Reviews         10841 non-null  object \n",
            " 4   Size            10841 non-null  object \n",
            " 5   Installs        10841 non-null  object \n",
            " 6   Type            10840 non-null  object \n",
            " 7   Price           10841 non-null  object \n",
            " 8   Content Rating  10840 non-null  object \n",
            " 9   Genres          10841 non-null  object \n",
            " 10  Last Updated    10841 non-null  object \n",
            " 11  Current Ver     10833 non-null  object \n",
            " 12  Android Ver     10838 non-null  object \n",
            "dtypes: float64(1), object(12)\n",
            "memory usage: 1.1+ MB\n"
          ]
        }
      ]
    },
    {
      "cell_type": "markdown",
      "source": [
        "Let's remove all the rows having the missing values"
      ],
      "metadata": {
        "id": "cSQr80-9pXgD"
      }
    },
    {
      "cell_type": "code",
      "source": [
        "df1 = df.dropna()"
      ],
      "metadata": {
        "id": "ue3juOwYqQ5D"
      },
      "execution_count": 30,
      "outputs": []
    },
    {
      "cell_type": "code",
      "source": [
        "#checking the info again\n",
        "df1.info()"
      ],
      "metadata": {
        "colab": {
          "base_uri": "https://localhost:8080/"
        },
        "id": "S16kpeh9uorc",
        "outputId": "c4e6b658-e705-4486-91f2-51d054df4e69"
      },
      "execution_count": 50,
      "outputs": [
        {
          "output_type": "stream",
          "name": "stdout",
          "text": [
            "<class 'pandas.core.frame.DataFrame'>\n",
            "Int64Index: 10829 entries, 0 to 10840\n",
            "Data columns (total 14 columns):\n",
            " #   Column          Non-Null Count  Dtype  \n",
            "---  ------          --------------  -----  \n",
            " 0   App             10829 non-null  object \n",
            " 1   Category        10829 non-null  object \n",
            " 2   Rating          10829 non-null  float64\n",
            " 3   Reviews         10829 non-null  object \n",
            " 4   Size            10829 non-null  object \n",
            " 5   Installs        10829 non-null  object \n",
            " 6   Type            10829 non-null  object \n",
            " 7   Price           10829 non-null  object \n",
            " 8   Content Rating  10829 non-null  object \n",
            " 9   Genres          10829 non-null  object \n",
            " 10  Last Updated    10829 non-null  object \n",
            " 11  Current Ver     10829 non-null  object \n",
            " 12  Android Ver     10829 non-null  object \n",
            " 13  Ratig           10829 non-null  float64\n",
            "dtypes: float64(2), object(12)\n",
            "memory usage: 1.2+ MB\n"
          ]
        }
      ]
    },
    {
      "cell_type": "markdown",
      "source": [
        "After watching the above data what we can conclude all the columns have String type data except Ratings which is float."
      ],
      "metadata": {
        "id": "WYUF5-rdwnPz"
      }
    },
    {
      "cell_type": "markdown",
      "source": [
        "## *5.2  Dropping the duplicates values*"
      ],
      "metadata": {
        "id": "SIKZOZ2Q0fZz"
      }
    },
    {
      "cell_type": "code",
      "source": [
        "df2 = df1.drop_duplicates()\n",
        "df2.shape"
      ],
      "metadata": {
        "colab": {
          "base_uri": "https://localhost:8080/"
        },
        "id": "RtkLGKAn0yWC",
        "outputId": "df719186-8c3b-44a5-ca61-51ce5c9fbfa3"
      },
      "execution_count": 57,
      "outputs": [
        {
          "output_type": "execute_result",
          "data": {
            "text/plain": [
              "(10346, 14)"
            ]
          },
          "metadata": {},
          "execution_count": 57
        }
      ]
    },
    {
      "cell_type": "code",
      "source": [
        "df2.info()"
      ],
      "metadata": {
        "colab": {
          "base_uri": "https://localhost:8080/"
        },
        "id": "or1PrnhG1MAM",
        "outputId": "c0900670-f915-4641-d926-725420e033b4"
      },
      "execution_count": 59,
      "outputs": [
        {
          "output_type": "stream",
          "name": "stdout",
          "text": [
            "<class 'pandas.core.frame.DataFrame'>\n",
            "Int64Index: 10346 entries, 0 to 10840\n",
            "Data columns (total 14 columns):\n",
            " #   Column          Non-Null Count  Dtype  \n",
            "---  ------          --------------  -----  \n",
            " 0   App             10346 non-null  object \n",
            " 1   Category        10346 non-null  object \n",
            " 2   Rating          10346 non-null  float64\n",
            " 3   Reviews         10346 non-null  object \n",
            " 4   Size            10346 non-null  object \n",
            " 5   Installs        10346 non-null  object \n",
            " 6   Type            10346 non-null  object \n",
            " 7   Price           10346 non-null  object \n",
            " 8   Content_Rating  10346 non-null  object \n",
            " 9   Genres          10346 non-null  object \n",
            " 10  Last_Updated    10346 non-null  object \n",
            " 11  Current_Ver     10346 non-null  object \n",
            " 12  Android_Ver     10346 non-null  object \n",
            " 13  Ratig           10346 non-null  float64\n",
            "dtypes: float64(2), object(12)\n",
            "memory usage: 1.2+ MB\n"
          ]
        }
      ]
    },
    {
      "cell_type": "markdown",
      "source": [
        "## *5.3  In column name replaceing space( ) with underscore(_)*"
      ],
      "metadata": {
        "id": "abImJPmJyW1L"
      }
    },
    {
      "cell_type": "code",
      "source": [
        "df1.columns"
      ],
      "metadata": {
        "colab": {
          "base_uri": "https://localhost:8080/"
        },
        "id": "ZSR9z_9Zx2Rt",
        "outputId": "3b11e252-0cbd-4673-9e8b-5acd586991ca"
      },
      "execution_count": 53,
      "outputs": [
        {
          "output_type": "execute_result",
          "data": {
            "text/plain": [
              "Index(['App', 'Category', 'Rating', 'Reviews', 'Size', 'Installs', 'Type',\n",
              "       'Price', 'Content Rating', 'Genres', 'Last Updated', 'Current Ver',\n",
              "       'Android Ver', 'Ratig'],\n",
              "      dtype='object')"
            ]
          },
          "metadata": {},
          "execution_count": 53
        }
      ]
    },
    {
      "cell_type": "code",
      "source": [
        "df1.columns = [column.replace(' ','_') for column in df1.columns]\n",
        "df1.columns"
      ],
      "metadata": {
        "colab": {
          "base_uri": "https://localhost:8080/"
        },
        "id": "r0VzsvFkzYcz",
        "outputId": "00ae229f-528a-4227-e15d-3f82afda5ed1"
      },
      "execution_count": 55,
      "outputs": [
        {
          "output_type": "execute_result",
          "data": {
            "text/plain": [
              "Index(['App', 'Category', 'Rating', 'Reviews', 'Size', 'Installs', 'Type',\n",
              "       'Price', 'Content_Rating', 'Genres', 'Last_Updated', 'Current_Ver',\n",
              "       'Android_Ver', 'Ratig'],\n",
              "      dtype='object')"
            ]
          },
          "metadata": {},
          "execution_count": 55
        }
      ]
    }
  ]
}